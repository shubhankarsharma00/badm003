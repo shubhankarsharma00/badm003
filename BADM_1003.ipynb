{
 "cells": [
  {
   "cell_type": "code",
   "execution_count": 75,
   "metadata": {},
   "outputs": [],
   "source": [
    "import pandas as pd\n",
    "from sklearn import preprocessing, model_selection, neighbors\n"
   ]
  },
  {
   "cell_type": "code",
   "execution_count": 76,
   "metadata": {},
   "outputs": [],
   "source": [
    "# dfv = pd.read_excel('Downloads/RetailSales Train.xlsx')\n",
    "dft = pd.read_excel('Downloads/RetailSales Validate.xlsx')"
   ]
  },
  {
   "cell_type": "code",
   "execution_count": 77,
   "metadata": {},
   "outputs": [
    {
     "data": {
      "text/html": [
       "<div>\n",
       "<style scoped>\n",
       "    .dataframe tbody tr th:only-of-type {\n",
       "        vertical-align: middle;\n",
       "    }\n",
       "\n",
       "    .dataframe tbody tr th {\n",
       "        vertical-align: top;\n",
       "    }\n",
       "\n",
       "    .dataframe thead th {\n",
       "        text-align: right;\n",
       "    }\n",
       "</style>\n",
       "<table border=\"1\" class=\"dataframe\">\n",
       "  <thead>\n",
       "    <tr style=\"text-align: right;\">\n",
       "      <th></th>\n",
       "      <th>InvoiceID</th>\n",
       "      <th>Status</th>\n",
       "      <th>ItemID</th>\n",
       "      <th>Description</th>\n",
       "      <th>Quantity</th>\n",
       "      <th>InvoiceDate</th>\n",
       "      <th>Price</th>\n",
       "      <th>CustomerID</th>\n",
       "    </tr>\n",
       "  </thead>\n",
       "  <tbody>\n",
       "    <tr>\n",
       "      <td>0</td>\n",
       "      <td>536380</td>\n",
       "      <td>Delivered</td>\n",
       "      <td>22961</td>\n",
       "      <td>JAM MAKING SET PRINTED</td>\n",
       "      <td>24</td>\n",
       "      <td>2010-12-01 09:41:00</td>\n",
       "      <td>126.15</td>\n",
       "      <td>17809</td>\n",
       "    </tr>\n",
       "    <tr>\n",
       "      <td>1</td>\n",
       "      <td>536381</td>\n",
       "      <td>Delivered</td>\n",
       "      <td>22139</td>\n",
       "      <td>RETROSPOT TEA SET CERAMIC 11 PC</td>\n",
       "      <td>23</td>\n",
       "      <td>2010-12-01 09:41:00</td>\n",
       "      <td>369.75</td>\n",
       "      <td>15311</td>\n",
       "    </tr>\n",
       "    <tr>\n",
       "      <td>2</td>\n",
       "      <td>536381</td>\n",
       "      <td>Delivered</td>\n",
       "      <td>84854</td>\n",
       "      <td>GIRLY PINK TOOL SET</td>\n",
       "      <td>5</td>\n",
       "      <td>2010-12-01 09:41:00</td>\n",
       "      <td>430.65</td>\n",
       "      <td>15311</td>\n",
       "    </tr>\n",
       "    <tr>\n",
       "      <td>3</td>\n",
       "      <td>536381</td>\n",
       "      <td>Delivered</td>\n",
       "      <td>22411</td>\n",
       "      <td>JUMBO SHOPPER VINTAGE RED PAISLEY</td>\n",
       "      <td>10</td>\n",
       "      <td>2010-12-01 09:41:00</td>\n",
       "      <td>169.65</td>\n",
       "      <td>15311</td>\n",
       "    </tr>\n",
       "    <tr>\n",
       "      <td>4</td>\n",
       "      <td>536381</td>\n",
       "      <td>Delivered</td>\n",
       "      <td>82567</td>\n",
       "      <td>AIRLINE LOUNGE,METAL SIGN</td>\n",
       "      <td>2</td>\n",
       "      <td>2010-12-01 09:41:00</td>\n",
       "      <td>182.70</td>\n",
       "      <td>15311</td>\n",
       "    </tr>\n",
       "  </tbody>\n",
       "</table>\n",
       "</div>"
      ],
      "text/plain": [
       "  InvoiceID     Status ItemID                        Description  Quantity  \\\n",
       "0    536380  Delivered  22961             JAM MAKING SET PRINTED        24   \n",
       "1    536381  Delivered  22139   RETROSPOT TEA SET CERAMIC 11 PC         23   \n",
       "2    536381  Delivered  84854                GIRLY PINK TOOL SET         5   \n",
       "3    536381  Delivered  22411  JUMBO SHOPPER VINTAGE RED PAISLEY        10   \n",
       "4    536381  Delivered  82567          AIRLINE LOUNGE,METAL SIGN         2   \n",
       "\n",
       "          InvoiceDate   Price  CustomerID  \n",
       "0 2010-12-01 09:41:00  126.15       17809  \n",
       "1 2010-12-01 09:41:00  369.75       15311  \n",
       "2 2010-12-01 09:41:00  430.65       15311  \n",
       "3 2010-12-01 09:41:00  169.65       15311  \n",
       "4 2010-12-01 09:41:00  182.70       15311  "
      ]
     },
     "execution_count": 77,
     "metadata": {},
     "output_type": "execute_result"
    }
   ],
   "source": [
    "dft.head()"
   ]
  },
  {
   "cell_type": "code",
   "execution_count": 78,
   "metadata": {},
   "outputs": [],
   "source": [
    "dft = dft[dft['Status']=='Delivered']"
   ]
  },
  {
   "cell_type": "code",
   "execution_count": 79,
   "metadata": {},
   "outputs": [],
   "source": [
    "dft = dft[dft['ItemID']!='POST']\n",
    "dft['InvoiceDate'] = dft['InvoiceDate'].apply(pd.to_datetime)"
   ]
  },
  {
   "cell_type": "code",
   "execution_count": 80,
   "metadata": {},
   "outputs": [],
   "source": [
    "dft['month'] = dft.InvoiceDate.dt.month"
   ]
  },
  {
   "cell_type": "code",
   "execution_count": 81,
   "metadata": {},
   "outputs": [],
   "source": [
    "dft['date'] = dft.InvoiceDate.dt.day"
   ]
  },
  {
   "cell_type": "code",
   "execution_count": 82,
   "metadata": {},
   "outputs": [],
   "source": [
    "dft['year'] = dft.InvoiceDate.dt.year\n",
    "dft['hour'] = dft.InvoiceDate.dt.hour"
   ]
  },
  {
   "cell_type": "code",
   "execution_count": 83,
   "metadata": {},
   "outputs": [],
   "source": [
    "dft = dft[dft['Quantity']>0]"
   ]
  },
  {
   "cell_type": "code",
   "execution_count": 10,
   "metadata": {},
   "outputs": [
    {
     "data": {
      "text/html": [
       "<div>\n",
       "<style scoped>\n",
       "    .dataframe tbody tr th:only-of-type {\n",
       "        vertical-align: middle;\n",
       "    }\n",
       "\n",
       "    .dataframe tbody tr th {\n",
       "        vertical-align: top;\n",
       "    }\n",
       "\n",
       "    .dataframe thead th {\n",
       "        text-align: right;\n",
       "    }\n",
       "</style>\n",
       "<table border=\"1\" class=\"dataframe\">\n",
       "  <thead>\n",
       "    <tr style=\"text-align: right;\">\n",
       "      <th></th>\n",
       "      <th>index</th>\n",
       "      <th>InvoiceID</th>\n",
       "      <th>Status</th>\n",
       "      <th>ItemID</th>\n",
       "      <th>Description</th>\n",
       "      <th>Quantity</th>\n",
       "      <th>InvoiceDate</th>\n",
       "      <th>Price</th>\n",
       "      <th>CustomerID</th>\n",
       "      <th>month</th>\n",
       "      <th>date</th>\n",
       "      <th>year</th>\n",
       "      <th>hour</th>\n",
       "    </tr>\n",
       "  </thead>\n",
       "  <tbody>\n",
       "    <tr>\n",
       "      <td>0</td>\n",
       "      <td>0</td>\n",
       "      <td>536380</td>\n",
       "      <td>Delivered</td>\n",
       "      <td>22961</td>\n",
       "      <td>JAM MAKING SET PRINTED</td>\n",
       "      <td>24</td>\n",
       "      <td>2010-12-01 09:41:00</td>\n",
       "      <td>126.15</td>\n",
       "      <td>17809</td>\n",
       "      <td>12</td>\n",
       "      <td>1</td>\n",
       "      <td>2010</td>\n",
       "      <td>9</td>\n",
       "    </tr>\n",
       "    <tr>\n",
       "      <td>1</td>\n",
       "      <td>1</td>\n",
       "      <td>536381</td>\n",
       "      <td>Delivered</td>\n",
       "      <td>22139</td>\n",
       "      <td>RETROSPOT TEA SET CERAMIC 11 PC</td>\n",
       "      <td>23</td>\n",
       "      <td>2010-12-01 09:41:00</td>\n",
       "      <td>369.75</td>\n",
       "      <td>15311</td>\n",
       "      <td>12</td>\n",
       "      <td>1</td>\n",
       "      <td>2010</td>\n",
       "      <td>9</td>\n",
       "    </tr>\n",
       "    <tr>\n",
       "      <td>2</td>\n",
       "      <td>2</td>\n",
       "      <td>536381</td>\n",
       "      <td>Delivered</td>\n",
       "      <td>84854</td>\n",
       "      <td>GIRLY PINK TOOL SET</td>\n",
       "      <td>5</td>\n",
       "      <td>2010-12-01 09:41:00</td>\n",
       "      <td>430.65</td>\n",
       "      <td>15311</td>\n",
       "      <td>12</td>\n",
       "      <td>1</td>\n",
       "      <td>2010</td>\n",
       "      <td>9</td>\n",
       "    </tr>\n",
       "    <tr>\n",
       "      <td>3</td>\n",
       "      <td>3</td>\n",
       "      <td>536381</td>\n",
       "      <td>Delivered</td>\n",
       "      <td>22411</td>\n",
       "      <td>JUMBO SHOPPER VINTAGE RED PAISLEY</td>\n",
       "      <td>10</td>\n",
       "      <td>2010-12-01 09:41:00</td>\n",
       "      <td>169.65</td>\n",
       "      <td>15311</td>\n",
       "      <td>12</td>\n",
       "      <td>1</td>\n",
       "      <td>2010</td>\n",
       "      <td>9</td>\n",
       "    </tr>\n",
       "    <tr>\n",
       "      <td>4</td>\n",
       "      <td>4</td>\n",
       "      <td>536381</td>\n",
       "      <td>Delivered</td>\n",
       "      <td>82567</td>\n",
       "      <td>AIRLINE LOUNGE,METAL SIGN</td>\n",
       "      <td>2</td>\n",
       "      <td>2010-12-01 09:41:00</td>\n",
       "      <td>182.70</td>\n",
       "      <td>15311</td>\n",
       "      <td>12</td>\n",
       "      <td>1</td>\n",
       "      <td>2010</td>\n",
       "      <td>9</td>\n",
       "    </tr>\n",
       "    <tr>\n",
       "      <td>...</td>\n",
       "      <td>...</td>\n",
       "      <td>...</td>\n",
       "      <td>...</td>\n",
       "      <td>...</td>\n",
       "      <td>...</td>\n",
       "      <td>...</td>\n",
       "      <td>...</td>\n",
       "      <td>...</td>\n",
       "      <td>...</td>\n",
       "      <td>...</td>\n",
       "      <td>...</td>\n",
       "      <td>...</td>\n",
       "      <td>...</td>\n",
       "    </tr>\n",
       "    <tr>\n",
       "      <td>41256</td>\n",
       "      <td>42148</td>\n",
       "      <td>581580</td>\n",
       "      <td>Delivered</td>\n",
       "      <td>22567</td>\n",
       "      <td>20 DOLLY PEGS RETROSPOT</td>\n",
       "      <td>1</td>\n",
       "      <td>2011-12-09 12:20:00</td>\n",
       "      <td>126.15</td>\n",
       "      <td>12748</td>\n",
       "      <td>12</td>\n",
       "      <td>9</td>\n",
       "      <td>2011</td>\n",
       "      <td>12</td>\n",
       "    </tr>\n",
       "    <tr>\n",
       "      <td>41257</td>\n",
       "      <td>42149</td>\n",
       "      <td>581580</td>\n",
       "      <td>Delivered</td>\n",
       "      <td>79321</td>\n",
       "      <td>CHILLI LIGHTS</td>\n",
       "      <td>2</td>\n",
       "      <td>2011-12-09 12:20:00</td>\n",
       "      <td>500.25</td>\n",
       "      <td>12748</td>\n",
       "      <td>12</td>\n",
       "      <td>9</td>\n",
       "      <td>2011</td>\n",
       "      <td>12</td>\n",
       "    </tr>\n",
       "    <tr>\n",
       "      <td>41258</td>\n",
       "      <td>42150</td>\n",
       "      <td>581580</td>\n",
       "      <td>Delivered</td>\n",
       "      <td>37500</td>\n",
       "      <td>TEA TIME TEAPOT IN GIFT BOX</td>\n",
       "      <td>1</td>\n",
       "      <td>2011-12-09 12:20:00</td>\n",
       "      <td>430.65</td>\n",
       "      <td>12748</td>\n",
       "      <td>12</td>\n",
       "      <td>9</td>\n",
       "      <td>2011</td>\n",
       "      <td>12</td>\n",
       "    </tr>\n",
       "    <tr>\n",
       "      <td>41259</td>\n",
       "      <td>42151</td>\n",
       "      <td>581584</td>\n",
       "      <td>Delivered</td>\n",
       "      <td>20832</td>\n",
       "      <td>RED FLOCK LOVE HEART PHOTO FRAME</td>\n",
       "      <td>72</td>\n",
       "      <td>2011-12-09 12:25:00</td>\n",
       "      <td>62.64</td>\n",
       "      <td>13777</td>\n",
       "      <td>12</td>\n",
       "      <td>9</td>\n",
       "      <td>2011</td>\n",
       "      <td>12</td>\n",
       "    </tr>\n",
       "    <tr>\n",
       "      <td>41260</td>\n",
       "      <td>42152</td>\n",
       "      <td>581584</td>\n",
       "      <td>Delivered</td>\n",
       "      <td>85038</td>\n",
       "      <td>6 CHOCOLATE LOVE HEART T-LIGHTS</td>\n",
       "      <td>48</td>\n",
       "      <td>2011-12-09 12:25:00</td>\n",
       "      <td>160.95</td>\n",
       "      <td>13777</td>\n",
       "      <td>12</td>\n",
       "      <td>9</td>\n",
       "      <td>2011</td>\n",
       "      <td>12</td>\n",
       "    </tr>\n",
       "  </tbody>\n",
       "</table>\n",
       "<p>41261 rows × 13 columns</p>\n",
       "</div>"
      ],
      "text/plain": [
       "       index InvoiceID     Status ItemID                        Description  \\\n",
       "0          0    536380  Delivered  22961             JAM MAKING SET PRINTED   \n",
       "1          1    536381  Delivered  22139   RETROSPOT TEA SET CERAMIC 11 PC    \n",
       "2          2    536381  Delivered  84854                GIRLY PINK TOOL SET   \n",
       "3          3    536381  Delivered  22411  JUMBO SHOPPER VINTAGE RED PAISLEY   \n",
       "4          4    536381  Delivered  82567          AIRLINE LOUNGE,METAL SIGN   \n",
       "...      ...       ...        ...    ...                                ...   \n",
       "41256  42148    581580  Delivered  22567            20 DOLLY PEGS RETROSPOT   \n",
       "41257  42149    581580  Delivered  79321                      CHILLI LIGHTS   \n",
       "41258  42150    581580  Delivered  37500        TEA TIME TEAPOT IN GIFT BOX   \n",
       "41259  42151    581584  Delivered  20832   RED FLOCK LOVE HEART PHOTO FRAME   \n",
       "41260  42152    581584  Delivered  85038    6 CHOCOLATE LOVE HEART T-LIGHTS   \n",
       "\n",
       "       Quantity         InvoiceDate   Price  CustomerID  month  date  year  \\\n",
       "0            24 2010-12-01 09:41:00  126.15       17809     12     1  2010   \n",
       "1            23 2010-12-01 09:41:00  369.75       15311     12     1  2010   \n",
       "2             5 2010-12-01 09:41:00  430.65       15311     12     1  2010   \n",
       "3            10 2010-12-01 09:41:00  169.65       15311     12     1  2010   \n",
       "4             2 2010-12-01 09:41:00  182.70       15311     12     1  2010   \n",
       "...         ...                 ...     ...         ...    ...   ...   ...   \n",
       "41256         1 2011-12-09 12:20:00  126.15       12748     12     9  2011   \n",
       "41257         2 2011-12-09 12:20:00  500.25       12748     12     9  2011   \n",
       "41258         1 2011-12-09 12:20:00  430.65       12748     12     9  2011   \n",
       "41259        72 2011-12-09 12:25:00   62.64       13777     12     9  2011   \n",
       "41260        48 2011-12-09 12:25:00  160.95       13777     12     9  2011   \n",
       "\n",
       "       hour  \n",
       "0         9  \n",
       "1         9  \n",
       "2         9  \n",
       "3         9  \n",
       "4         9  \n",
       "...     ...  \n",
       "41256    12  \n",
       "41257    12  \n",
       "41258    12  \n",
       "41259    12  \n",
       "41260    12  \n",
       "\n",
       "[41261 rows x 13 columns]"
      ]
     },
     "execution_count": 10,
     "metadata": {},
     "output_type": "execute_result"
    }
   ],
   "source": [
    "dft.reset_index()"
   ]
  },
  {
   "cell_type": "code",
   "execution_count": 11,
   "metadata": {},
   "outputs": [
    {
     "data": {
      "text/plain": [
       "array([ 9, 11, 13, 14, 15, 16,  8, 10, 12, 17, 18, 19,  7])"
      ]
     },
     "execution_count": 11,
     "metadata": {},
     "output_type": "execute_result"
    }
   ],
   "source": [
    "dft['hour'].unique()"
   ]
  },
  {
   "cell_type": "code",
   "execution_count": 12,
   "metadata": {},
   "outputs": [],
   "source": [
    "def hour_to_factor(x):\n",
    "    m = 5\n",
    "#     print(m)\n",
    "    for i in range(1,m+1):\n",
    "        if x<i*(24/m):\n",
    "            return i\n",
    "    return m"
   ]
  },
  {
   "cell_type": "code",
   "execution_count": 13,
   "metadata": {},
   "outputs": [],
   "source": [
    "dft['hour'] = dft['hour'].apply(hour_to_factor)"
   ]
  },
  {
   "cell_type": "code",
   "execution_count": 14,
   "metadata": {},
   "outputs": [],
   "source": [
    "c = 0\n",
    "item = {}\n",
    "for i in (dft['ItemID'].unique()):\n",
    "    item[i] = c\n",
    "    c+=1\n",
    "dft['ItemID'] = list(map(lambda x: item[x],dft['ItemID']))\n",
    "X = dft[['CustomerID']]\n",
    "y = dft[['hour']]\n",
    "# X,y?                dft['hour'].loc[i] = j\n"
   ]
  },
  {
   "cell_type": "code",
   "execution_count": 15,
   "metadata": {},
   "outputs": [
    {
     "data": {
      "text/plain": [
       "array([2, 3, 4])"
      ]
     },
     "execution_count": 15,
     "metadata": {},
     "output_type": "execute_result"
    }
   ],
   "source": [
    "dft['hour'].unique()"
   ]
  },
  {
   "cell_type": "code",
   "execution_count": 16,
   "metadata": {},
   "outputs": [],
   "source": [
    "import math\n",
    "import numpy as np\n",
    "import pandas as pd\n",
    "from sklearn import preprocessing, model_selection, svm\n",
    "from sklearn.linear_model import LinearRegression\n",
    "\n",
    "X = preprocessing.scale(X)\n",
    "y = np.array(y)"
   ]
  },
  {
   "cell_type": "code",
   "execution_count": 17,
   "metadata": {},
   "outputs": [
    {
     "data": {
      "text/plain": [
       "28882"
      ]
     },
     "execution_count": 17,
     "metadata": {},
     "output_type": "execute_result"
    }
   ],
   "source": [
    "X_train, X_test, y_train, y_test = model_selection.train_test_split(X, y, test_size=0.3)\n",
    "clf = neighbors.KNeighborsClassifier()\n",
    "len(X_train)"
   ]
  },
  {
   "cell_type": "code",
   "execution_count": 18,
   "metadata": {},
   "outputs": [
    {
     "name": "stderr",
     "output_type": "stream",
     "text": [
      "/home/zeldariomon/.local/lib/python3.6/site-packages/ipykernel_launcher.py:1: DataConversionWarning: A column-vector y was passed when a 1d array was expected. Please change the shape of y to (n_samples, ), for example using ravel().\n",
      "  \"\"\"Entry point for launching an IPython kernel.\n"
     ]
    },
    {
     "data": {
      "text/plain": [
       "KNeighborsClassifier(algorithm='auto', leaf_size=30, metric='minkowski',\n",
       "                     metric_params=None, n_jobs=None, n_neighbors=5, p=2,\n",
       "                     weights='uniform')"
      ]
     },
     "execution_count": 18,
     "metadata": {},
     "output_type": "execute_result"
    }
   ],
   "source": [
    "clf.fit(X_train, y_train)\n"
   ]
  },
  {
   "cell_type": "code",
   "execution_count": 19,
   "metadata": {},
   "outputs": [],
   "source": [
    "confidence = clf.score(X_test, y_test)\n",
    "# print(X_train,y_train)\n",
    "# print(X_test,y_test)"
   ]
  },
  {
   "cell_type": "code",
   "execution_count": 20,
   "metadata": {},
   "outputs": [
    {
     "data": {
      "text/plain": [
       "0.8863397689635674"
      ]
     },
     "execution_count": 20,
     "metadata": {},
     "output_type": "execute_result"
    }
   ],
   "source": [
    "confidence"
   ]
  },
  {
   "cell_type": "code",
   "execution_count": 21,
   "metadata": {},
   "outputs": [],
   "source": [
    "import seaborn as sns"
   ]
  },
  {
   "cell_type": "code",
   "execution_count": 26,
   "metadata": {},
   "outputs": [],
   "source": [
    "from mlxtend.plotting import plot_learning_curves"
   ]
  },
  {
   "cell_type": "code",
   "execution_count": 27,
   "metadata": {},
   "outputs": [
    {
     "name": "stderr",
     "output_type": "stream",
     "text": [
      "/home/zeldariomon/.local/lib/python3.6/site-packages/mlxtend/plotting/learning_curves.py:104: DataConversionWarning: A column-vector y was passed when a 1d array was expected. Please change the shape of y to (n_samples, ), for example using ravel().\n",
      "  model = clf.fit(X_train[:r], y_train[:r])\n",
      "/home/zeldariomon/.local/lib/python3.6/site-packages/mlxtend/plotting/learning_curves.py:104: DataConversionWarning: A column-vector y was passed when a 1d array was expected. Please change the shape of y to (n_samples, ), for example using ravel().\n",
      "  model = clf.fit(X_train[:r], y_train[:r])\n",
      "/home/zeldariomon/.local/lib/python3.6/site-packages/mlxtend/plotting/learning_curves.py:104: DataConversionWarning: A column-vector y was passed when a 1d array was expected. Please change the shape of y to (n_samples, ), for example using ravel().\n",
      "  model = clf.fit(X_train[:r], y_train[:r])\n",
      "/home/zeldariomon/.local/lib/python3.6/site-packages/mlxtend/plotting/learning_curves.py:104: DataConversionWarning: A column-vector y was passed when a 1d array was expected. Please change the shape of y to (n_samples, ), for example using ravel().\n",
      "  model = clf.fit(X_train[:r], y_train[:r])\n",
      "/home/zeldariomon/.local/lib/python3.6/site-packages/mlxtend/plotting/learning_curves.py:104: DataConversionWarning: A column-vector y was passed when a 1d array was expected. Please change the shape of y to (n_samples, ), for example using ravel().\n",
      "  model = clf.fit(X_train[:r], y_train[:r])\n",
      "/home/zeldariomon/.local/lib/python3.6/site-packages/mlxtend/plotting/learning_curves.py:104: DataConversionWarning: A column-vector y was passed when a 1d array was expected. Please change the shape of y to (n_samples, ), for example using ravel().\n",
      "  model = clf.fit(X_train[:r], y_train[:r])\n",
      "/home/zeldariomon/.local/lib/python3.6/site-packages/mlxtend/plotting/learning_curves.py:104: DataConversionWarning: A column-vector y was passed when a 1d array was expected. Please change the shape of y to (n_samples, ), for example using ravel().\n",
      "  model = clf.fit(X_train[:r], y_train[:r])\n",
      "/home/zeldariomon/.local/lib/python3.6/site-packages/mlxtend/plotting/learning_curves.py:104: DataConversionWarning: A column-vector y was passed when a 1d array was expected. Please change the shape of y to (n_samples, ), for example using ravel().\n",
      "  model = clf.fit(X_train[:r], y_train[:r])\n",
      "/home/zeldariomon/.local/lib/python3.6/site-packages/mlxtend/plotting/learning_curves.py:104: DataConversionWarning: A column-vector y was passed when a 1d array was expected. Please change the shape of y to (n_samples, ), for example using ravel().\n",
      "  model = clf.fit(X_train[:r], y_train[:r])\n",
      "/home/zeldariomon/.local/lib/python3.6/site-packages/mlxtend/plotting/learning_curves.py:104: DataConversionWarning: A column-vector y was passed when a 1d array was expected. Please change the shape of y to (n_samples, ), for example using ravel().\n",
      "  model = clf.fit(X_train[:r], y_train[:r])\n"
     ]
    },
    {
     "data": {
      "text/plain": [
       "([1269.3206371191136,\n",
       "  2581.2375346260387,\n",
       "  3839.5377423822715,\n",
       "  5353.157029085873,\n",
       "  6570.651547676754,\n",
       "  7876.589012637774,\n",
       "  9041.305980115743,\n",
       "  10260.92611988747,\n",
       "  11559.605663063132,\n",
       "  12946.395090367703],\n",
       " [5407.968656595848,\n",
       "  5693.909847322077,\n",
       "  5590.080620405525,\n",
       "  5871.851199612247,\n",
       "  5730.543016398739,\n",
       "  5762.162048630746,\n",
       "  5634.203408999111,\n",
       "  5642.964698279344,\n",
       "  5641.935697552306,\n",
       "  5688.3354067372165])"
      ]
     },
     "execution_count": 27,
     "metadata": {},
     "output_type": "execute_result"
    },
    {
     "data": {
      "image/png": "[encoded data removed]",
      "text/plain": [
       "<Figure size 432x288 with 1 Axes>"
      ]
     },
     "metadata": {},
     "output_type": "display_data"
    }
   ],
   "source": [
    "plot_learning_curves(X_train,y_train,X_test,y_test,clf)"
   ]
  },
  {
   "cell_type": "code",
   "execution_count": 32,
   "metadata": {},
   "outputs": [],
   "source": [
    "import matplotlib.pyplot as plt\n",
    "%matplotlib inline"
   ]
  },
  {
   "cell_type": "code",
   "execution_count": 44,
   "metadata": {},
   "outputs": [],
   "source": [
    "# yTest = pd.Series(y_test)\n",
    "y_test_id = []\n",
    "for i in range(len(y_test)):\n",
    "    y_test_id.append(y_test[i][0])"
   ]
  },
  {
   "cell_type": "code",
   "execution_count": 47,
   "metadata": {},
   "outputs": [],
   "source": [
    "yTest = pd.Series(y_test_id)"
   ]
  },
  {
   "cell_type": "code",
   "execution_count": 63,
   "metadata": {},
   "outputs": [
    {
     "data": {
      "text/plain": [
       "3    8495\n",
       "4    2855\n",
       "2    1029\n",
       "dtype: int64"
      ]
     },
     "execution_count": 63,
     "metadata": {},
     "output_type": "execute_result"
    }
   ],
   "source": [
    "yTest.value_counts()"
   ]
  },
  {
   "cell_type": "code",
   "execution_count": 68,
   "metadata": {},
   "outputs": [
    {
     "data": {
      "text/plain": [
       "<matplotlib.collections.PathCollection at 0x7f1514156a90>"
      ]
     },
     "execution_count": 68,
     "metadata": {},
     "output_type": "execute_result"
    },
    {
     "data": {
      "image/png": "[encoded data removed]",
      "text/plain": [
       "<Figure size 432x288 with 1 Axes>"
      ]
     },
     "metadata": {
      "needs_background": "light"
     },
     "output_type": "display_data"
    }
   ],
   "source": [
    "plt.scatter(x=[3,4,2],y=yTest.value_counts())"
   ]
  },
  {
   "cell_type": "code",
   "execution_count": 72,
   "metadata": {},
   "outputs": [
    {
     "data": {
      "text/plain": [
       "<BarContainer object of 12379 artists>"
      ]
     },
     "execution_count": 72,
     "metadata": {},
     "output_type": "execute_result"
    },
    {
     "data": {
      "image/png": "[encoded data removed]",
      "text/plain": [
       "<Figure size 432x288 with 1 Axes>"
      ]
     },
     "metadata": {
      "needs_background": "light"
     },
     "output_type": "display_data"
    }
   ],
   "source": [
    "plt.bar(yTest,9000)"
   ]
  },
  {
   "cell_type": "code",
   "execution_count": 74,
   "metadata": {},
   "outputs": [
    {
     "data": {
      "text/plain": [
       "array([2, 3, 4])"
      ]
     },
     "execution_count": 74,
     "metadata": {},
     "output_type": "execute_result"
    }
   ],
   "source": [
    "dft['hour'].unique()"
   ]
  },
  {
   "cell_type": "code",
   "execution_count": 89,
   "metadata": {},
   "outputs": [
    {
     "data": {
      "text/plain": [
       "(array([3., 1., 1., 2., 0., 0., 1., 2., 2., 1.]),\n",
       " array([  71. ,  749.9, 1428.8, 2107.7, 2786.6, 3465.5, 4144.4, 4823.3,\n",
       "        5502.2, 6181.1, 6860. ]),\n",
       " <a list of 10 Patch objects>)"
      ]
     },
     "execution_count": 89,
     "metadata": {},
     "output_type": "execute_result"
    },
    {
     "data": {
      "image/png": "[encoded data removed]",
      "text/plain": [
       "<Figure size 432x288 with 1 Axes>"
      ]
     },
     "metadata": {
      "needs_background": "light"
     },
     "output_type": "display_data"
    }
   ],
   "source": [
    "plt.hist(dft['hour'].value_counts())"
   ]
  },
  {
   "cell_type": "code",
   "execution_count": 94,
   "metadata": {},
   "outputs": [
    {
     "ename": "AttributeError",
     "evalue": "'Series' object has no attribute 'sort'",
     "output_type": "error",
     "traceback": [
      "\u001b[0;31m---------------------------------------------------------------------------\u001b[0m",
      "\u001b[0;31mAttributeError\u001b[0m                            Traceback (most recent call last)",
      "\u001b[0;32m<ipython-input-94-16bbe0bd794a>\u001b[0m in \u001b[0;36m<module>\u001b[0;34m\u001b[0m\n\u001b[1;32m      1\u001b[0m \u001b[0ma\u001b[0m \u001b[0;34m=\u001b[0m \u001b[0mdft\u001b[0m\u001b[0;34m[\u001b[0m\u001b[0;34m'hour'\u001b[0m\u001b[0;34m]\u001b[0m\u001b[0;34m.\u001b[0m\u001b[0mvalue_counts\u001b[0m\u001b[0;34m(\u001b[0m\u001b[0;34m)\u001b[0m\u001b[0;34m[\u001b[0m\u001b[0;34m:\u001b[0m\u001b[0;36m10\u001b[0m\u001b[0;34m]\u001b[0m\u001b[0;34m\u001b[0m\u001b[0;34m\u001b[0m\u001b[0m\n\u001b[1;32m      2\u001b[0m \u001b[0mtype\u001b[0m\u001b[0;34m(\u001b[0m\u001b[0ma\u001b[0m\u001b[0;34m)\u001b[0m\u001b[0;34m\u001b[0m\u001b[0;34m\u001b[0m\u001b[0m\n\u001b[0;32m----> 3\u001b[0;31m \u001b[0mdft\u001b[0m\u001b[0;34m[\u001b[0m\u001b[0;34m'hour'\u001b[0m\u001b[0;34m]\u001b[0m\u001b[0;34m.\u001b[0m\u001b[0msort\u001b[0m\u001b[0;34m(\u001b[0m\u001b[0;34m)\u001b[0m\u001b[0;34m\u001b[0m\u001b[0;34m\u001b[0m\u001b[0m\n\u001b[0m",
      "\u001b[0;32m~/.local/lib/python3.6/site-packages/pandas/core/generic.py\u001b[0m in \u001b[0;36m__getattr__\u001b[0;34m(self, name)\u001b[0m\n\u001b[1;32m   5177\u001b[0m             \u001b[0;32mif\u001b[0m \u001b[0mself\u001b[0m\u001b[0;34m.\u001b[0m\u001b[0m_info_axis\u001b[0m\u001b[0;34m.\u001b[0m\u001b[0m_can_hold_identifiers_and_holds_name\u001b[0m\u001b[0;34m(\u001b[0m\u001b[0mname\u001b[0m\u001b[0;34m)\u001b[0m\u001b[0;34m:\u001b[0m\u001b[0;34m\u001b[0m\u001b[0;34m\u001b[0m\u001b[0m\n\u001b[1;32m   5178\u001b[0m                 \u001b[0;32mreturn\u001b[0m \u001b[0mself\u001b[0m\u001b[0;34m[\u001b[0m\u001b[0mname\u001b[0m\u001b[0;34m]\u001b[0m\u001b[0;34m\u001b[0m\u001b[0;34m\u001b[0m\u001b[0m\n\u001b[0;32m-> 5179\u001b[0;31m             \u001b[0;32mreturn\u001b[0m \u001b[0mobject\u001b[0m\u001b[0;34m.\u001b[0m\u001b[0m__getattribute__\u001b[0m\u001b[0;34m(\u001b[0m\u001b[0mself\u001b[0m\u001b[0;34m,\u001b[0m \u001b[0mname\u001b[0m\u001b[0;34m)\u001b[0m\u001b[0;34m\u001b[0m\u001b[0;34m\u001b[0m\u001b[0m\n\u001b[0m\u001b[1;32m   5180\u001b[0m \u001b[0;34m\u001b[0m\u001b[0m\n\u001b[1;32m   5181\u001b[0m     \u001b[0;32mdef\u001b[0m \u001b[0m__setattr__\u001b[0m\u001b[0;34m(\u001b[0m\u001b[0mself\u001b[0m\u001b[0;34m,\u001b[0m \u001b[0mname\u001b[0m\u001b[0;34m,\u001b[0m \u001b[0mvalue\u001b[0m\u001b[0;34m)\u001b[0m\u001b[0;34m:\u001b[0m\u001b[0;34m\u001b[0m\u001b[0;34m\u001b[0m\u001b[0m\n",
      "\u001b[0;31mAttributeError\u001b[0m: 'Series' object has no attribute 'sort'"
     ]
    }
   ],
   "source": [
    "a = dft['hour'].value_counts()[:10]\n",
    "type(a)"
   ]
  },
  {
   "cell_type": "code",
   "execution_count": 95,
   "metadata": {},
   "outputs": [
    {
     "data": {
      "text/plain": [
       "12    6860\n",
       "14    5865\n",
       "11    5705\n",
       "13    5283\n",
       "10    4889\n",
       "15    4723\n",
       "9     2220\n",
       "16    2201\n",
       "17    1517\n",
       "8      992\n",
       "18     531\n",
       "19     404\n",
       "7       71\n",
       "Name: hour, dtype: int64"
      ]
     },
     "execution_count": 95,
     "metadata": {},
     "output_type": "execute_result"
    }
   ],
   "source": [
    "dft['hour'].value_counts()"
   ]
  },
  {
   "cell_type": "code",
   "execution_count": 104,
   "metadata": {},
   "outputs": [
    {
     "data": {
      "text/plain": [
       "<matplotlib.collections.PathCollection at 0x7f150240eb00>"
      ]
     },
     "execution_count": 104,
     "metadata": {},
     "output_type": "execute_result"
    },
    {
     "data": {
      "image/png": "[encoded data removed]",
      "text/plain": [
       "<Figure size 1080x864 with 1 Axes>"
      ]
     },
     "metadata": {
      "needs_background": "light"
     },
     "output_type": "display_data"
    }
   ],
   "source": [
    "plt.figure(figsize=(15,12))\n",
    "plt.scatter(x=[12,14,11,13,10,15,9,16,17,8,18,19,7],y=dft['hour'].value_counts())"
   ]
  },
  {
   "cell_type": "code",
   "execution_count": null,
   "metadata": {},
   "outputs": [],
   "source": []
  }
 ],
 "metadata": {
  "kernelspec": {
   "display_name": "Python 3",
   "language": "python",
   "name": "python3"
  },
  "language_info": {
   "codemirror_mode": {
    "name": "ipython",
    "version": 3
   },
   "file_extension": ".py",
   "mimetype": "text/x-python",
   "name": "python",
   "nbconvert_exporter": "python",
   "pygments_lexer": "ipython3",
   "version": "3.6.8"
  }
 },
 "nbformat": 4,
 "nbformat_minor": 2
}
